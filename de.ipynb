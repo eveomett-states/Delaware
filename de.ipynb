{
 "cells": [
  {
   "cell_type": "markdown",
   "id": "48a72edc-10d5-447e-bf59-a42b79b13098",
   "metadata": {},
   "source": [
    "# All the parameters that need to be changed"
   ]
  },
  {
   "cell_type": "code",
   "execution_count": 2,
   "id": "55545525-1a53-4366-88fa-4b4ecc94ecad",
   "metadata": {},
   "outputs": [],
   "source": [
    "# Delaware\n",
    "state_ab = \"de\""
   ]
  },
  {
   "cell_type": "markdown",
   "id": "c3e1bdeb-55c5-4c10-83b5-de352e6d559d",
   "metadata": {
    "tags": []
   },
   "source": [
    "## Data\n",
    "1. Download all the data in directory \"il_data\"\n",
    "2. Eextract them all"
   ]
  },
  {
   "cell_type": "code",
   "execution_count": 4,
   "id": "1cbb32f0-472b-4441-abf2-6af58699cb5f",
   "metadata": {},
   "outputs": [],
   "source": [
    "data_folder = state_ab + \"_data/\"\n",
    "population1_data = \"./{}{}_pl2020_b/{}_pl2020_p1_b.shp\".format(data_folder, state_ab, state_ab)\n",
    "population2_data = \"./{}{}_pl2020_b/{}_pl2020_p2_b.shp\".format(data_folder, state_ab, state_ab)\n",
    "vap_data =  \"./{}{}_pl2020_b/{}_pl2020_p4_b.shp\".format(data_folder, state_ab, state_ab)\n",
    "vest20_data = \"./{}{}_vest_20/{}_vest_20.shp\".format(data_folder, state_ab, state_ab)\n",
    "vest18_data = \"./{}{}_vest_18/{}_vest_18.shp\".format(data_folder, state_ab, state_ab)\n",
    "vest16_data = \"./{}{}_vest_16/{}_vest_16.shp\".format(data_folder, state_ab, state_ab)\n",
    "send_data = \"./{}{}_sldu_adopted_2022/DESenate22.shp\".format(data_folder, state_ab)\n",
    "hdist_data = \"./{}{}_sldl_adopted_2022/March 2022 Redistricting Clean Up File.shp\".format(data_folder, state_ab)"
   ]
  },
  {
   "cell_type": "markdown",
   "id": "2594a66a-efb1-443f-8b0a-b2c73257f1cc",
   "metadata": {},
   "source": [
    "## Parameters that needs to be manually checked\n",
    "\n",
    "### base vest data\n",
    "start_col = 5\\\n",
    "vest_base_data = vest20\\\n",
    "year = '20'\n",
    "\n",
    "### district data\n",
    "district column name of cong_df, send, hdist when calling add_dist()"
   ]
  },
  {
   "cell_type": "markdown",
   "id": "d9cfe42b-cfd8-4ad4-b255-31268cb35669",
   "metadata": {},
   "source": [
    "# Program starts"
   ]
  },
  {
   "cell_type": "code",
   "execution_count": 7,
   "id": "49a264d4-c255-4393-b5ae-74b6f7c645da",
   "metadata": {},
   "outputs": [],
   "source": [
    "import pandas as pd\n",
    "import geopandas as gpd\n",
    "import maup\n",
    "import time\n",
    "from maup import smart_repair\n",
    "from gerrychain import Graph\n",
    "import os\n",
    "\n",
    "maup.progress.enabled = True"
   ]
  },
  {
   "cell_type": "code",
   "execution_count": 8,
   "id": "f78d28b6-abb4-4444-aa7e-f0eb73dab3f2",
   "metadata": {},
   "outputs": [],
   "source": [
    "import warnings\n",
    "warnings.filterwarnings(\"ignore\")"
   ]
  },
  {
   "cell_type": "code",
   "execution_count": 9,
   "id": "378425b3-9819-41bd-8212-2e031b571cf2",
   "metadata": {},
   "outputs": [],
   "source": [
    "def do_smart_repair(df):\n",
    "    # change it to the UTM it needs for smart_repair\n",
    "    df = df.to_crs(df.estimate_utm_crs())\n",
    "    df = smart_repair(df)\n",
    "\n",
    "    # Consistent crs\n",
    "    df = df.to_crs('EPSG:4269')\n",
    "    \n",
    "    # check maup doctor again to see if smart repair works\n",
    "    if maup.doctor(df) != True:\n",
    "        raise Exception('maup.doctor failed')\n",
    "    \n",
    "    return df"
   ]
  },
  {
   "cell_type": "code",
   "execution_count": 10,
   "id": "df3945da-c3af-41a8-9511-a5aba33fef0b",
   "metadata": {},
   "outputs": [],
   "source": [
    "def add_district(dist_df, dist_name, election_df, col_name):\n",
    "    # Consistent crs\n",
    "    dist_df = dist_df.to_crs('EPSG:4269')\n",
    "    \n",
    "    # check if it needs to be smart_repair\n",
    "    if maup.doctor(dist_df) != True:\n",
    "        dist_df = do_smart_repair(dist_df)\n",
    "\n",
    "    election_df = gpd.GeoDataFrame(election_df, crs=\"EPSG:4269\")\n",
    "    dist_df = gpd.GeoDataFrame(dist_df, crs=\"EPSG:4269\")\n",
    "\n",
    "    # assigne the pricincts\n",
    "    precincts_to_district_assignment = maup.assign(election_df.geometry, dist_df.geometry)\n",
    "    election_df[dist_name] = precincts_to_district_assignment\n",
    "    for precinct_index in range(len(election_df)):\n",
    "        election_df.at[precinct_index, dist_name] = dist_df.at[election_df.at[precinct_index, dist_name], col_name]\n",
    "\n",
    "    return election_df"
   ]
  },
  {
   "cell_type": "code",
   "execution_count": 11,
   "id": "29c38a31-6707-4ab3-a9e4-38d69ce6838c",
   "metadata": {},
   "outputs": [],
   "source": [
    "def rename(original, year):\n",
    "    party = original[6]\n",
    "    if party == 'R' or party == 'D':\n",
    "        return original[3:6] + year + original[6]\n",
    "    else:\n",
    "        return original[3:6] + year + 'O'"
   ]
  },
  {
   "cell_type": "code",
   "execution_count": 12,
   "id": "9cbd02f8-308e-4fe9-804a-6bc8474b749b",
   "metadata": {},
   "outputs": [],
   "source": [
    "def check_population(population, df):\n",
    "    pop_check = pd.DataFrame({\n",
    "        'pop_col': pop_col,\n",
    "        'population_df': population[pop_col].sum(), \n",
    "        'vest_base': df[pop_col].sum(),\n",
    "        'equal': [x == y for x, y in zip(population[pop_col].sum(), df[pop_col].sum())]\n",
    "    })\n",
    "    if pop_check['equal'].mean() < 1:\n",
    "        print(pop_check)\n",
    "        raise Exception(\"population doesn't agree\")\n",
    "\n",
    "    else:\n",
    "        print(\"population agrees\")"
   ]
  },
  {
   "cell_type": "code",
   "execution_count": 13,
   "id": "c4508baf-84cd-4a31-97ad-059164232e8e",
   "metadata": {},
   "outputs": [],
   "source": [
    "def add_vest(vest, df, year, population, start_col):    \n",
    "     # check if it needs to be smart_repair\n",
    "    if maup.doctor(vest) != True:\n",
    "        vest = do_smart_repair(vest)\n",
    "\n",
    "    # Consistent crs\n",
    "    vest = vest.to_crs('EPSG:4269')\n",
    "    population = population.to_crs('EPSG:4269')\n",
    "    \n",
    "    # rename the columns\n",
    "    original_col = vest.columns[start_col:-1]\n",
    "    new_col = [rename(i, year) for i in original_col]\n",
    "    rename_dict = dict(zip(original_col, new_col))\n",
    "    vest = vest.rename(columns=rename_dict)\n",
    "    vest = vest.groupby(level=0, axis=1).sum() # combine all the other party's vote into columns with sufix \"O\"\n",
    "    col_name = list(set(new_col))\n",
    "    col_name.sort()\n",
    "    \n",
    "    # make the blocks from precincts by weight\n",
    "    vest = gpd.GeoDataFrame(vest, crs=\"EPSG:4269\")\n",
    "    election_in_block = population[[\"VAP\", 'geometry']] # population_df is in block scale\n",
    "    blocks_to_precincts_assignment = maup.assign(election_in_block.geometry, vest.geometry)\n",
    "    weights = election_in_block[\"VAP\"] / blocks_to_precincts_assignment.map(election_in_block[\"VAP\"].groupby(blocks_to_precincts_assignment).sum())\n",
    "    weights = weights.fillna(0)\n",
    "    prorated = maup.prorate(blocks_to_precincts_assignment, vest[col_name], weights)\n",
    "    election_in_block[col_name] = prorated\n",
    "    \n",
    "    # assign blocks to precincts\n",
    "    election_in_block = gpd.GeoDataFrame(election_in_block, crs=\"EPSG:4269\")\n",
    "    df = gpd.GeoDataFrame(df, crs=\"EPSG:4269\")\n",
    "    block_to_pricinct_assginment = maup.assign(election_in_block.geometry, df.geometry)\n",
    "    df[col_name] = election_in_block[col_name].groupby(block_to_pricinct_assginment).sum()\n",
    "    df = df.groupby(level=0, axis=1).sum()\n",
    "    \n",
    "    # check if population agrees\n",
    "    check_population(population, df)\n",
    "    \n",
    "    return df"
   ]
  },
  {
   "cell_type": "markdown",
   "id": "ab6ce8f5-f237-4d6c-8425-cd8a0b080f65",
   "metadata": {},
   "source": [
    "## Read the census data"
   ]
  },
  {
   "cell_type": "code",
   "execution_count": 15,
   "id": "185d2b84-d37f-4f24-86c1-1bcd0b4347e2",
   "metadata": {},
   "outputs": [],
   "source": [
    "population1_df = gpd.read_file(population1_data)\n",
    "population2_df = gpd.read_file(population2_data)\n",
    "vap_df = gpd.read_file(vap_data)"
   ]
  },
  {
   "cell_type": "code",
   "execution_count": 16,
   "id": "57b3b9bb-9721-469d-8eee-0dd5eb0e6015",
   "metadata": {},
   "outputs": [],
   "source": [
    "population2_df = population2_df.drop(columns=['SUMLEV', 'LOGRECNO', 'GEOID', 'COUNTY', 'geometry'])\n",
    "vap_df = vap_df.drop(columns=['SUMLEV', 'LOGRECNO', 'GEOID', 'COUNTY', 'geometry'])"
   ]
  },
  {
   "cell_type": "code",
   "execution_count": 17,
   "id": "daa935f7-bc02-4856-adb0-9cc9cf31ffca",
   "metadata": {},
   "outputs": [],
   "source": [
    "population_df = pd.merge(population1_df, population2_df, on='GEOID20')\n",
    "population_df = pd.merge(population_df, vap_df, on='GEOID20')"
   ]
  },
  {
   "cell_type": "code",
   "execution_count": 18,
   "id": "bba4a6d3-e621-43c7-8784-b4e75c63aad7",
   "metadata": {},
   "outputs": [
    {
     "name": "stdout",
     "output_type": "stream",
     "text": [
      "0        POLYGON ((-75.65542 39.54930, -75.65459 39.549...\n",
      "1        POLYGON ((-75.59892 39.77281, -75.59887 39.773...\n",
      "2        POLYGON ((-75.75740 39.43498, -75.75734 39.435...\n",
      "3        POLYGON ((-75.78475 39.68048, -75.78470 39.680...\n",
      "4        POLYGON ((-75.47102 39.81160, -75.47086 39.811...\n",
      "                               ...                        \n",
      "20193    POLYGON ((-75.60796 38.64493, -75.60686 38.644...\n",
      "20194    POLYGON ((-75.62227 38.56966, -75.62193 38.570...\n",
      "20195    POLYGON ((-75.69660 38.58534, -75.69651 38.585...\n",
      "20196    POLYGON ((-75.15564 38.54452, -75.15544 38.544...\n",
      "20197    POLYGON ((-75.10601 38.62154, -75.10592 38.621...\n",
      "Name: geometry, Length: 20198, dtype: geometry\n"
     ]
    }
   ],
   "source": [
    "print(population_df['geometry'])"
   ]
  },
  {
   "cell_type": "code",
   "execution_count": 19,
   "id": "0845f50e-9920-404a-8284-c47df7b0f6ce",
   "metadata": {},
   "outputs": [],
   "source": [
    "rename_dict = {'P0020001': 'TOTPOP', 'P0020002': 'HISP', 'P0020005': 'NH_WHITE', 'P0020006': 'NH_BLACK', 'P0020007': 'NH_AMIN',\n",
    "               'P0020008': 'NH_ASIAN', 'P0020009': 'NH_NHPI', 'P0020010': 'NH_OTHER', 'P0020011': 'NH_2MORE',\n",
    "               'P0040001': 'VAP', 'P0040002': 'HVAP', 'P0040005': 'WVAP', 'P0040006': 'BVAP', 'P0040007': 'AMINVAP',\n",
    "               'P0040008': 'ASIANVAP', 'P0040009': 'NHPIVAP', 'P0040010': 'OTHERVAP', 'P0040011': '2MOREVAP'}"
   ]
  },
  {
   "cell_type": "code",
   "execution_count": 20,
   "id": "4d4f9723-ad23-46ff-bbd0-8d4ab628b69b",
   "metadata": {},
   "outputs": [],
   "source": [
    "population_df.rename(columns=rename_dict, inplace = True)"
   ]
  },
  {
   "cell_type": "code",
   "execution_count": 21,
   "id": "9550a841-5692-4d5f-a7f1-131d53eb9f12",
   "metadata": {},
   "outputs": [],
   "source": [
    "population_df['H_WHITE'] = population_df.apply(lambda t: t['P0010003'] - t['NH_WHITE'], 1)\n",
    "population_df['H_BLACK'] = population_df.apply(lambda t: t['P0010004'] - t['NH_BLACK'], 1)\n",
    "population_df['H_AMIN'] = population_df.apply(lambda t: t['P0010005'] - t['NH_AMIN'], 1)\n",
    "population_df['H_ASIAN'] = population_df.apply(lambda t: t['P0010006'] - t['NH_ASIAN'], 1)\n",
    "population_df['H_NHPI'] = population_df.apply(lambda t: t['P0010007'] - t['NH_NHPI'], 1)\n",
    "population_df['H_OTHER'] = population_df.apply(lambda t: t['P0010008'] - t['NH_OTHER'], 1)\n",
    "population_df['H_2MORE'] = population_df.apply(lambda t: t['P0010009'] - t['NH_2MORE'], 1)"
   ]
  },
  {
   "cell_type": "markdown",
   "id": "e1e89689-06e1-4937-9bee-b0442bfc33d5",
   "metadata": {},
   "source": [
    "# Read the base vest data\n",
    "Now using it as a \"base precinct\", but it could be vest 18 or vest 16 if vest 20 is not working"
   ]
  },
  {
   "cell_type": "code",
   "execution_count": 23,
   "id": "9f3f7fd2-4b38-4b7f-8352-b960681a83c0",
   "metadata": {},
   "outputs": [],
   "source": [
    "def add_vest_base(vest, start_col, year):\n",
    "    vest = vest.to_crs('EPSG:4269')\n",
    "    original_col = vest.columns[start_col:-1]\n",
    "    new_col = [rename(i, year) for i in original_col]\n",
    "    rename_dict = dict(zip(original_col, new_col))\n",
    "    vest = vest.rename(columns=rename_dict)\n",
    "    vest = vest.groupby(level=0, axis=1).sum()\n",
    "    vest = gpd.GeoDataFrame(vest, crs=\"EPSG:4269\")\n",
    "    \n",
    "    return vest"
   ]
  },
  {
   "cell_type": "markdown",
   "id": "bcfb3af1-db89-4463-98d8-3a0192067bb4",
   "metadata": {},
   "source": [
    "# Check if vest 16 can be used as base"
   ]
  },
  {
   "cell_type": "code",
   "execution_count": 25,
   "id": "397e9936-bfde-4b09-9dcb-207733dfb2dd",
   "metadata": {},
   "outputs": [],
   "source": [
    "vest16 = gpd.read_file(vest16_data)"
   ]
  },
  {
   "cell_type": "code",
   "execution_count": 26,
   "id": "5e209243-ad5d-4d85-a3b2-463ad52a68d2",
   "metadata": {},
   "outputs": [
    {
     "name": "stdout",
     "output_type": "stream",
     "text": [
      "Index(['GEOID20', 'SUMLEV', 'LOGRECNO', 'GEOID', 'COUNTY', 'P0010001',\n",
      "       'P0010002', 'P0010003', 'P0010004', 'P0010005',\n",
      "       ...\n",
      "       'P0040071', 'P0040072', 'P0040073', 'H_WHITE', 'H_BLACK', 'H_AMIN',\n",
      "       'H_ASIAN', 'H_NHPI', 'H_OTHER', 'H_2MORE'],\n",
      "      dtype='object', length=230)\n"
     ]
    }
   ],
   "source": [
    "print(population_df.columns)"
   ]
  },
  {
   "cell_type": "code",
   "execution_count": 27,
   "id": "dabe5bd2-39a8-40a6-93dc-a989a4c702b6",
   "metadata": {
    "tags": []
   },
   "outputs": [
    {
     "name": "stderr",
     "output_type": "stream",
     "text": [
      "100%|███████████████████████████████████████| 430/430 [00:00<00:00, 1545.75it/s]\n"
     ]
    }
   ],
   "source": [
    "if maup.doctor(vest16) != True:\n",
    "    vest16 = do_smart_repair(vest16)"
   ]
  },
  {
   "cell_type": "markdown",
   "id": "20718edd-b876-4d8d-8509-5eeee4b9b9be",
   "metadata": {},
   "source": [
    "### If it is true for maup doctor, we will use it as the base vest data.\n",
    "Check where the election column starts, this should be the same for all vest data in that state"
   ]
  },
  {
   "cell_type": "code",
   "execution_count": 29,
   "id": "2d744be1-7568-4b94-a383-17d219ac128b",
   "metadata": {},
   "outputs": [
    {
     "data": {
      "text/plain": [
       "Index(['PRECINCT', 'G16PREDCLI', 'G16PRERTRU', 'G16PREGSTE', 'G16PRELJOH',\n",
       "       'G16HALDROC', 'G16HALRREI', 'G16HALGPER', 'G16HALLGES', 'G16GOVDCAR',\n",
       "       'G16GOVRBON', 'G16GOVGGRO', 'G16GOVLGOW', 'G16LTGDHAL', 'G16LTGRGUN',\n",
       "       'G16INSDNAV', 'G16INSRCRA', 'geometry'],\n",
       "      dtype='object')"
      ]
     },
     "execution_count": 29,
     "metadata": {},
     "output_type": "execute_result"
    }
   ],
   "source": [
    "vest16.columns"
   ]
  },
  {
   "cell_type": "markdown",
   "id": "65620cab-599f-4232-818e-e85846d02694",
   "metadata": {},
   "source": [
    "## Parameters that need to be checked"
   ]
  },
  {
   "cell_type": "code",
   "execution_count": 31,
   "id": "4200a0f8-29dd-42f9-96e4-ff27188ce32a",
   "metadata": {},
   "outputs": [],
   "source": [
    "start_col = 1\n",
    "vest_base_data = vest16\n",
    "year = '16'"
   ]
  },
  {
   "cell_type": "code",
   "execution_count": 32,
   "id": "728420ec-9df2-4771-ae4c-1832fe3fb12f",
   "metadata": {},
   "outputs": [],
   "source": [
    "vest_base = add_vest_base(vest_base_data, start_col, year)"
   ]
  },
  {
   "cell_type": "code",
   "execution_count": 33,
   "id": "10e48467-d392-4312-b15f-bf18106f354c",
   "metadata": {
    "tags": []
   },
   "outputs": [
    {
     "name": "stderr",
     "output_type": "stream",
     "text": [
      "100%|███████████████████████████████████████| 430/430 [00:00<00:00, 1293.72it/s]\n",
      "100%|████████████████████████████████████████| 430/430 [00:01<00:00, 330.51it/s]\n"
     ]
    }
   ],
   "source": [
    "# vap and population have the same GEOID20\n",
    "blocks_to_precincts_assignment = maup.assign(population_df.geometry, vest_base.geometry)"
   ]
  },
  {
   "cell_type": "code",
   "execution_count": 34,
   "id": "fb12e12b-a4ca-48d1-9743-ed202035a617",
   "metadata": {},
   "outputs": [
    {
     "name": "stdout",
     "output_type": "stream",
     "text": [
      "0\n",
      "20198\n"
     ]
    }
   ],
   "source": [
    "print(blocks_to_precincts_assignment.isna().sum())\n",
    "print(len(blocks_to_precincts_assignment))"
   ]
  },
  {
   "cell_type": "code",
   "execution_count": 35,
   "id": "1f7f4be0-fdfa-4474-8d21-817861cccaf1",
   "metadata": {},
   "outputs": [
    {
     "name": "stderr",
     "output_type": "stream",
     "text": [
      "100%|███████████████████████████████████████| 430/430 [00:00<00:00, 1589.11it/s]\n"
     ]
    },
    {
     "data": {
      "text/plain": [
       "True"
      ]
     },
     "execution_count": 35,
     "metadata": {},
     "output_type": "execute_result"
    }
   ],
   "source": [
    "maup.doctor(vest16)"
   ]
  },
  {
   "cell_type": "code",
   "execution_count": 36,
   "id": "8e45f5db-ca3e-4a4a-b357-978ef82bd0ec",
   "metadata": {},
   "outputs": [],
   "source": [
    "vest18 = gpd.read_file(vest18_data)"
   ]
  },
  {
   "cell_type": "code",
   "execution_count": 37,
   "id": "5eeb0881-73ed-46b4-a4b9-47b26e1542cc",
   "metadata": {},
   "outputs": [
    {
     "name": "stderr",
     "output_type": "stream",
     "text": [
      "100%|███████████████████████████████████████| 434/434 [00:00<00:00, 1599.03it/s]\n"
     ]
    },
    {
     "data": {
      "text/plain": [
       "True"
      ]
     },
     "execution_count": 37,
     "metadata": {},
     "output_type": "execute_result"
    }
   ],
   "source": [
    "maup.doctor(vest18)"
   ]
  },
  {
   "cell_type": "code",
   "execution_count": 38,
   "id": "0447ff08-ccfa-4c18-8ef9-48ceeeed39e2",
   "metadata": {},
   "outputs": [],
   "source": [
    "vest20 = gpd.read_file(vest20_data)"
   ]
  },
  {
   "cell_type": "code",
   "execution_count": 39,
   "id": "a002c747-754c-4e13-a9ab-e62192edf4e0",
   "metadata": {},
   "outputs": [
    {
     "name": "stderr",
     "output_type": "stream",
     "text": [
      "100%|███████████████████████████████████████| 434/434 [00:00<00:00, 1463.06it/s]\n"
     ]
    },
    {
     "data": {
      "text/plain": [
       "True"
      ]
     },
     "execution_count": 39,
     "metadata": {},
     "output_type": "execute_result"
    }
   ],
   "source": [
    "maup.doctor(vest20)"
   ]
  },
  {
   "cell_type": "code",
   "execution_count": 40,
   "id": "966e23f6-0498-4e1e-bcbc-f4c6cd9c8ab8",
   "metadata": {},
   "outputs": [
    {
     "name": "stderr",
     "output_type": "stream",
     "text": [
      "100%|███████████████████████████████████| 20198/20198 [00:06<00:00, 3210.80it/s]\n"
     ]
    },
    {
     "data": {
      "text/plain": [
       "True"
      ]
     },
     "execution_count": 40,
     "metadata": {},
     "output_type": "execute_result"
    }
   ],
   "source": [
    "maup.doctor(population_df)"
   ]
  },
  {
   "cell_type": "code",
   "execution_count": 41,
   "id": "ac015a92-391c-48c4-b26a-5c511b58e3ab",
   "metadata": {},
   "outputs": [],
   "source": [
    "pop_col = ['TOTPOP', 'HISP', 'NH_WHITE', 'NH_BLACK', 'NH_AMIN', 'NH_ASIAN', 'NH_NHPI', 'NH_OTHER', 'NH_2MORE', 'H_WHITE', 'H_BLACK', 'H_AMIN', 'H_ASIAN', 'H_NHPI', 'H_OTHER', 'H_2MORE', 'VAP', 'HVAP', 'WVAP', 'BVAP', 'AMINVAP', 'ASIANVAP', 'NHPIVAP', 'OTHERVAP', '2MOREVAP']"
   ]
  },
  {
   "cell_type": "code",
   "execution_count": 42,
   "id": "f91b6866-727d-40c9-9d43-4a0e6ae8c0e2",
   "metadata": {},
   "outputs": [],
   "source": [
    "vest_base[pop_col] = population_df[pop_col].groupby(blocks_to_precincts_assignment).sum()"
   ]
  },
  {
   "cell_type": "code",
   "execution_count": 43,
   "id": "7833f2b3-3253-4d9a-896c-8f5e67481d2d",
   "metadata": {},
   "outputs": [
    {
     "data": {
      "text/plain": [
       "0        204\n",
       "1        249\n",
       "2        203\n",
       "3         79\n",
       "4        165\n",
       "        ... \n",
       "20193    405\n",
       "20194    363\n",
       "20195    408\n",
       "20196    368\n",
       "20197    394\n",
       "Length: 20198, dtype: int64"
      ]
     },
     "execution_count": 43,
     "metadata": {},
     "output_type": "execute_result"
    }
   ],
   "source": [
    "blocks_to_precincts_assignment"
   ]
  },
  {
   "cell_type": "code",
   "execution_count": 44,
   "id": "ead5880d-f5f1-44f0-8024-ff4789ff2f15",
   "metadata": {},
   "outputs": [],
   "source": [
    "election_df = gpd.GeoDataFrame(vest_base, crs=\"EPSG:4269\")"
   ]
  },
  {
   "cell_type": "markdown",
   "id": "cf1aefdb-30e0-4d1f-9261-01a513f4e1d3",
   "metadata": {},
   "source": [
    "### Check if the population agrees"
   ]
  },
  {
   "cell_type": "code",
   "execution_count": 46,
   "id": "d6ff200d-d1d6-4f7d-ba3b-142cddc0eb85",
   "metadata": {},
   "outputs": [
    {
     "name": "stdout",
     "output_type": "stream",
     "text": [
      "population agrees\n"
     ]
    }
   ],
   "source": [
    "check_population(population_df, vest_base)"
   ]
  },
  {
   "cell_type": "markdown",
   "id": "2b677d1a-cbe3-47aa-ae8a-761d0dfc7ad1",
   "metadata": {},
   "source": [
    "# Add more vest data"
   ]
  },
  {
   "cell_type": "code",
   "execution_count": 48,
   "id": "5528f64a-1b5c-4b9f-b7cf-aefa45d4d25f",
   "metadata": {
    "tags": []
   },
   "outputs": [
    {
     "name": "stderr",
     "output_type": "stream",
     "text": [
      "100%|███████████████████████████████████████| 434/434 [00:00<00:00, 1590.08it/s]\n",
      "100%|███████████████████████████████████████| 434/434 [00:00<00:00, 1311.26it/s]\n",
      "100%|████████████████████████████████████████| 434/434 [00:01<00:00, 331.66it/s]\n",
      "100%|███████████████████████████████████████| 430/430 [00:00<00:00, 1323.90it/s]\n",
      "100%|████████████████████████████████████████| 430/430 [00:01<00:00, 322.26it/s]\n"
     ]
    },
    {
     "name": "stdout",
     "output_type": "stream",
     "text": [
      "population agrees\n"
     ]
    }
   ],
   "source": [
    "# check the result here\n",
    "election_df = add_vest(vest20, election_df, '20', population_df, start_col)"
   ]
  },
  {
   "cell_type": "code",
   "execution_count": 49,
   "id": "4d7476dd-c003-4fa5-ab9b-8ed6f75bed39",
   "metadata": {
    "tags": []
   },
   "outputs": [
    {
     "data": {
      "text/plain": [
       "Index(['PRECINCT', 'G16PREDCLI', 'G16PRERTRU', 'G16PREGSTE', 'G16PRELJOH',\n",
       "       'G16HALDROC', 'G16HALRREI', 'G16HALGPER', 'G16HALLGES', 'G16GOVDCAR',\n",
       "       'G16GOVRBON', 'G16GOVGGRO', 'G16GOVLGOW', 'G16LTGDHAL', 'G16LTGRGUN',\n",
       "       'G16INSDNAV', 'G16INSRCRA', 'geometry'],\n",
       "      dtype='object')"
      ]
     },
     "execution_count": 49,
     "metadata": {},
     "output_type": "execute_result"
    }
   ],
   "source": [
    "vest16 = gpd.read_file(vest16_data)\n",
    "vest16.columns"
   ]
  },
  {
   "cell_type": "code",
   "execution_count": 50,
   "id": "136186d1-d139-4d8d-8f52-36064690b7af",
   "metadata": {},
   "outputs": [
    {
     "name": "stderr",
     "output_type": "stream",
     "text": [
      "100%|███████████████████████████████████████| 430/430 [00:00<00:00, 1453.95it/s]\n",
      "100%|███████████████████████████████████████| 430/430 [00:00<00:00, 1180.96it/s]\n",
      "100%|████████████████████████████████████████| 430/430 [00:01<00:00, 327.91it/s]\n",
      "100%|███████████████████████████████████████| 430/430 [00:00<00:00, 1333.31it/s]\n",
      "100%|████████████████████████████████████████| 430/430 [00:01<00:00, 322.29it/s]"
     ]
    },
    {
     "name": "stdout",
     "output_type": "stream",
     "text": [
      "population agrees\n"
     ]
    },
    {
     "name": "stderr",
     "output_type": "stream",
     "text": [
      "\n"
     ]
    }
   ],
   "source": [
    "election_df = add_vest(vest16, election_df, '16', population_df, start_col)"
   ]
  },
  {
   "cell_type": "markdown",
   "id": "10cf83d4-6005-485b-8193-c0149869a97e",
   "metadata": {},
   "source": [
    "## Add the district data"
   ]
  },
  {
   "cell_type": "code",
   "execution_count": 52,
   "id": "a0ccb606-7fe4-4b0a-998b-337d31f4abc5",
   "metadata": {},
   "outputs": [],
   "source": [
    "send = gpd.read_file(send_data).to_crs('EPSG:4269')\n",
    "hdist = gpd.read_file(hdist_data).to_crs('EPSG:4269')"
   ]
  },
  {
   "cell_type": "code",
   "execution_count": 53,
   "id": "53633412-ea16-4ab0-a5c2-017c66afe248",
   "metadata": {},
   "outputs": [
    {
     "data": {
      "text/html": [
       "<div>\n",
       "<style scoped>\n",
       "    .dataframe tbody tr th:only-of-type {\n",
       "        vertical-align: middle;\n",
       "    }\n",
       "\n",
       "    .dataframe tbody tr th {\n",
       "        vertical-align: top;\n",
       "    }\n",
       "\n",
       "    .dataframe thead th {\n",
       "        text-align: right;\n",
       "    }\n",
       "</style>\n",
       "<table border=\"1\" class=\"dataframe\">\n",
       "  <thead>\n",
       "    <tr style=\"text-align: right;\">\n",
       "      <th></th>\n",
       "      <th>ID</th>\n",
       "      <th>AREA</th>\n",
       "      <th>DISTRICT</th>\n",
       "      <th>MEMBERS</th>\n",
       "      <th>LOCKED</th>\n",
       "      <th>NAME</th>\n",
       "      <th>ADJ_POPULA</th>\n",
       "      <th>ADJ_WHITE</th>\n",
       "      <th>ADJ_BLACK</th>\n",
       "      <th>ADJ_ASIAN</th>\n",
       "      <th>...</th>\n",
       "      <th>IDEAL_VALU</th>\n",
       "      <th>DEVIATION</th>\n",
       "      <th>F_DEVIATIO</th>\n",
       "      <th>F_ADJ_WHIT</th>\n",
       "      <th>F_ADJ_BLAC</th>\n",
       "      <th>F_ADJ_ASIA</th>\n",
       "      <th>F_ADJ_AMIN</th>\n",
       "      <th>F_ADJ_OTHE</th>\n",
       "      <th>DISTRICT_L</th>\n",
       "      <th>geometry</th>\n",
       "    </tr>\n",
       "  </thead>\n",
       "  <tbody>\n",
       "    <tr>\n",
       "      <th>0</th>\n",
       "      <td>1</td>\n",
       "      <td>15.944303</td>\n",
       "      <td>1</td>\n",
       "      <td>1.0</td>\n",
       "      <td>None</td>\n",
       "      <td>None</td>\n",
       "      <td>44856</td>\n",
       "      <td>29399</td>\n",
       "      <td>10231</td>\n",
       "      <td>1640</td>\n",
       "      <td>...</td>\n",
       "      <td>47124.0</td>\n",
       "      <td>-2268.0</td>\n",
       "      <td>-0.048128</td>\n",
       "      <td>0.655408</td>\n",
       "      <td>0.228085</td>\n",
       "      <td>0.036561</td>\n",
       "      <td>0.001783</td>\n",
       "      <td>0.017657</td>\n",
       "      <td>1|-4.81%</td>\n",
       "      <td>POLYGON ((-75.47421 39.78841, -75.47409 39.788...</td>\n",
       "    </tr>\n",
       "    <tr>\n",
       "      <th>1</th>\n",
       "      <td>2</td>\n",
       "      <td>60.647408</td>\n",
       "      <td>10</td>\n",
       "      <td>1.0</td>\n",
       "      <td>None</td>\n",
       "      <td>None</td>\n",
       "      <td>47281</td>\n",
       "      <td>27975</td>\n",
       "      <td>10990</td>\n",
       "      <td>3724</td>\n",
       "      <td>...</td>\n",
       "      <td>47124.0</td>\n",
       "      <td>157.0</td>\n",
       "      <td>0.003332</td>\n",
       "      <td>0.591675</td>\n",
       "      <td>0.232440</td>\n",
       "      <td>0.078763</td>\n",
       "      <td>0.001819</td>\n",
       "      <td>0.027009</td>\n",
       "      <td>10|0.33%</td>\n",
       "      <td>POLYGON ((-75.69906 39.40833, -75.69908 39.408...</td>\n",
       "    </tr>\n",
       "    <tr>\n",
       "      <th>2</th>\n",
       "      <td>3</td>\n",
       "      <td>20.521450</td>\n",
       "      <td>11</td>\n",
       "      <td>1.0</td>\n",
       "      <td>None</td>\n",
       "      <td>None</td>\n",
       "      <td>48203</td>\n",
       "      <td>21537</td>\n",
       "      <td>14022</td>\n",
       "      <td>5115</td>\n",
       "      <td>...</td>\n",
       "      <td>47124.0</td>\n",
       "      <td>1079.0</td>\n",
       "      <td>0.022897</td>\n",
       "      <td>0.446798</td>\n",
       "      <td>0.290895</td>\n",
       "      <td>0.106114</td>\n",
       "      <td>0.004336</td>\n",
       "      <td>0.068149</td>\n",
       "      <td>11|2.29%</td>\n",
       "      <td>POLYGON ((-75.71540 39.60807, -75.71697 39.607...</td>\n",
       "    </tr>\n",
       "    <tr>\n",
       "      <th>3</th>\n",
       "      <td>4</td>\n",
       "      <td>107.664040</td>\n",
       "      <td>12</td>\n",
       "      <td>1.0</td>\n",
       "      <td>None</td>\n",
       "      <td>None</td>\n",
       "      <td>47368</td>\n",
       "      <td>26073</td>\n",
       "      <td>13463</td>\n",
       "      <td>2908</td>\n",
       "      <td>...</td>\n",
       "      <td>47124.0</td>\n",
       "      <td>244.0</td>\n",
       "      <td>0.005178</td>\n",
       "      <td>0.550435</td>\n",
       "      <td>0.284221</td>\n",
       "      <td>0.061392</td>\n",
       "      <td>0.002977</td>\n",
       "      <td>0.028247</td>\n",
       "      <td>12|0.52%</td>\n",
       "      <td>POLYGON ((-75.55876 39.65424, -75.55724 39.652...</td>\n",
       "    </tr>\n",
       "    <tr>\n",
       "      <th>4</th>\n",
       "      <td>5</td>\n",
       "      <td>15.994961</td>\n",
       "      <td>13</td>\n",
       "      <td>1.0</td>\n",
       "      <td>None</td>\n",
       "      <td>None</td>\n",
       "      <td>48294</td>\n",
       "      <td>18048</td>\n",
       "      <td>19838</td>\n",
       "      <td>2801</td>\n",
       "      <td>...</td>\n",
       "      <td>47124.0</td>\n",
       "      <td>1170.0</td>\n",
       "      <td>0.024828</td>\n",
       "      <td>0.373711</td>\n",
       "      <td>0.410776</td>\n",
       "      <td>0.057999</td>\n",
       "      <td>0.004410</td>\n",
       "      <td>0.072618</td>\n",
       "      <td>13|2.48%</td>\n",
       "      <td>POLYGON ((-75.58859 39.69282, -75.58874 39.692...</td>\n",
       "    </tr>\n",
       "  </tbody>\n",
       "</table>\n",
       "<p>5 rows × 22 columns</p>\n",
       "</div>"
      ],
      "text/plain": [
       "   ID        AREA DISTRICT  MEMBERS LOCKED  NAME  ADJ_POPULA  ADJ_WHITE  \\\n",
       "0   1   15.944303        1      1.0   None  None       44856      29399   \n",
       "1   2   60.647408       10      1.0   None  None       47281      27975   \n",
       "2   3   20.521450       11      1.0   None  None       48203      21537   \n",
       "3   4  107.664040       12      1.0   None  None       47368      26073   \n",
       "4   5   15.994961       13      1.0   None  None       48294      18048   \n",
       "\n",
       "   ADJ_BLACK  ADJ_ASIAN  ...  IDEAL_VALU  DEVIATION  F_DEVIATIO  F_ADJ_WHIT  \\\n",
       "0      10231       1640  ...     47124.0    -2268.0   -0.048128    0.655408   \n",
       "1      10990       3724  ...     47124.0      157.0    0.003332    0.591675   \n",
       "2      14022       5115  ...     47124.0     1079.0    0.022897    0.446798   \n",
       "3      13463       2908  ...     47124.0      244.0    0.005178    0.550435   \n",
       "4      19838       2801  ...     47124.0     1170.0    0.024828    0.373711   \n",
       "\n",
       "   F_ADJ_BLAC  F_ADJ_ASIA  F_ADJ_AMIN  F_ADJ_OTHE  DISTRICT_L  \\\n",
       "0    0.228085    0.036561    0.001783    0.017657    1|-4.81%   \n",
       "1    0.232440    0.078763    0.001819    0.027009    10|0.33%   \n",
       "2    0.290895    0.106114    0.004336    0.068149    11|2.29%   \n",
       "3    0.284221    0.061392    0.002977    0.028247    12|0.52%   \n",
       "4    0.410776    0.057999    0.004410    0.072618    13|2.48%   \n",
       "\n",
       "                                            geometry  \n",
       "0  POLYGON ((-75.47421 39.78841, -75.47409 39.788...  \n",
       "1  POLYGON ((-75.69906 39.40833, -75.69908 39.408...  \n",
       "2  POLYGON ((-75.71540 39.60807, -75.71697 39.607...  \n",
       "3  POLYGON ((-75.55876 39.65424, -75.55724 39.652...  \n",
       "4  POLYGON ((-75.58859 39.69282, -75.58874 39.692...  \n",
       "\n",
       "[5 rows x 22 columns]"
      ]
     },
     "execution_count": 53,
     "metadata": {},
     "output_type": "execute_result"
    }
   ],
   "source": [
    "send.head()"
   ]
  },
  {
   "cell_type": "code",
   "execution_count": 54,
   "id": "ab736eaa-e9bd-4960-9924-f4b66fdc9cd9",
   "metadata": {},
   "outputs": [
    {
     "data": {
      "text/html": [
       "<div>\n",
       "<style scoped>\n",
       "    .dataframe tbody tr th:only-of-type {\n",
       "        vertical-align: middle;\n",
       "    }\n",
       "\n",
       "    .dataframe tbody tr th {\n",
       "        vertical-align: top;\n",
       "    }\n",
       "\n",
       "    .dataframe thead th {\n",
       "        text-align: right;\n",
       "    }\n",
       "</style>\n",
       "<table border=\"1\" class=\"dataframe\">\n",
       "  <thead>\n",
       "    <tr style=\"text-align: right;\">\n",
       "      <th></th>\n",
       "      <th>ID</th>\n",
       "      <th>AREA</th>\n",
       "      <th>DISTRICT</th>\n",
       "      <th>MEMBERS</th>\n",
       "      <th>LOCKED</th>\n",
       "      <th>NAME</th>\n",
       "      <th>ADJ_POPULA</th>\n",
       "      <th>ADJ_WHITE</th>\n",
       "      <th>ADJ_BLACK</th>\n",
       "      <th>ADJ_ASIAN</th>\n",
       "      <th>...</th>\n",
       "      <th>TOTAL_REGI</th>\n",
       "      <th>DEM_</th>\n",
       "      <th>REP_</th>\n",
       "      <th>OTHER_</th>\n",
       "      <th>F_ADJ_18_W</th>\n",
       "      <th>F_ADJ_18_B</th>\n",
       "      <th>F_ADJ_18_A</th>\n",
       "      <th>DISTRICT_N</th>\n",
       "      <th>DISTRICT_L</th>\n",
       "      <th>geometry</th>\n",
       "    </tr>\n",
       "  </thead>\n",
       "  <tbody>\n",
       "    <tr>\n",
       "      <th>0</th>\n",
       "      <td>1</td>\n",
       "      <td>2.455995</td>\n",
       "      <td>01</td>\n",
       "      <td>1.0</td>\n",
       "      <td>None</td>\n",
       "      <td>None</td>\n",
       "      <td>23267</td>\n",
       "      <td>6608</td>\n",
       "      <td>14503</td>\n",
       "      <td>313</td>\n",
       "      <td>...</td>\n",
       "      <td>19374</td>\n",
       "      <td>0.754878</td>\n",
       "      <td>0.085114</td>\n",
       "      <td>0.160008</td>\n",
       "      <td>0.317962</td>\n",
       "      <td>0.598196</td>\n",
       "      <td>0.014487</td>\n",
       "      <td>1</td>\n",
       "      <td>01|-3.6%</td>\n",
       "      <td>POLYGON ((-75.55350 39.76181, -75.55343 39.761...</td>\n",
       "    </tr>\n",
       "    <tr>\n",
       "      <th>1</th>\n",
       "      <td>2</td>\n",
       "      <td>10.331964</td>\n",
       "      <td>02</td>\n",
       "      <td>1.0</td>\n",
       "      <td>None</td>\n",
       "      <td>None</td>\n",
       "      <td>22961</td>\n",
       "      <td>5099</td>\n",
       "      <td>13969</td>\n",
       "      <td>351</td>\n",
       "      <td>...</td>\n",
       "      <td>17218</td>\n",
       "      <td>0.719422</td>\n",
       "      <td>0.087118</td>\n",
       "      <td>0.193460</td>\n",
       "      <td>0.258801</td>\n",
       "      <td>0.586316</td>\n",
       "      <td>0.018915</td>\n",
       "      <td>2</td>\n",
       "      <td>02|-4.87%</td>\n",
       "      <td>POLYGON ((-75.55103 39.73524, -75.55105 39.735...</td>\n",
       "    </tr>\n",
       "    <tr>\n",
       "      <th>2</th>\n",
       "      <td>3</td>\n",
       "      <td>1.584466</td>\n",
       "      <td>03</td>\n",
       "      <td>1.0</td>\n",
       "      <td>None</td>\n",
       "      <td>None</td>\n",
       "      <td>23692</td>\n",
       "      <td>6461</td>\n",
       "      <td>11869</td>\n",
       "      <td>200</td>\n",
       "      <td>...</td>\n",
       "      <td>16771</td>\n",
       "      <td>0.721543</td>\n",
       "      <td>0.093614</td>\n",
       "      <td>0.184843</td>\n",
       "      <td>0.308913</td>\n",
       "      <td>0.484878</td>\n",
       "      <td>0.010081</td>\n",
       "      <td>3</td>\n",
       "      <td>03|-1.84%</td>\n",
       "      <td>POLYGON ((-75.55230 39.74464, -75.55222 39.744...</td>\n",
       "    </tr>\n",
       "    <tr>\n",
       "      <th>3</th>\n",
       "      <td>4</td>\n",
       "      <td>52.090076</td>\n",
       "      <td>04</td>\n",
       "      <td>1.0</td>\n",
       "      <td>None</td>\n",
       "      <td>None</td>\n",
       "      <td>23653</td>\n",
       "      <td>19435</td>\n",
       "      <td>1249</td>\n",
       "      <td>300</td>\n",
       "      <td>...</td>\n",
       "      <td>19540</td>\n",
       "      <td>0.356704</td>\n",
       "      <td>0.399846</td>\n",
       "      <td>0.243449</td>\n",
       "      <td>0.853769</td>\n",
       "      <td>0.047228</td>\n",
       "      <td>0.011489</td>\n",
       "      <td>4</td>\n",
       "      <td>04|-2.01%</td>\n",
       "      <td>POLYGON ((-75.12478 38.68044, -75.12423 38.679...</td>\n",
       "    </tr>\n",
       "    <tr>\n",
       "      <th>4</th>\n",
       "      <td>5</td>\n",
       "      <td>5.388244</td>\n",
       "      <td>05</td>\n",
       "      <td>1.0</td>\n",
       "      <td>None</td>\n",
       "      <td>None</td>\n",
       "      <td>23485</td>\n",
       "      <td>6842</td>\n",
       "      <td>11952</td>\n",
       "      <td>1312</td>\n",
       "      <td>...</td>\n",
       "      <td>16989</td>\n",
       "      <td>0.677262</td>\n",
       "      <td>0.122609</td>\n",
       "      <td>0.200129</td>\n",
       "      <td>0.321194</td>\n",
       "      <td>0.493084</td>\n",
       "      <td>0.058338</td>\n",
       "      <td>5</td>\n",
       "      <td>05|-2.7%</td>\n",
       "      <td>POLYGON ((-75.60451 39.66538, -75.60653 39.663...</td>\n",
       "    </tr>\n",
       "  </tbody>\n",
       "</table>\n",
       "<p>5 rows × 33 columns</p>\n",
       "</div>"
      ],
      "text/plain": [
       "   ID       AREA DISTRICT  MEMBERS LOCKED  NAME  ADJ_POPULA  ADJ_WHITE  \\\n",
       "0   1   2.455995       01      1.0   None  None       23267       6608   \n",
       "1   2  10.331964       02      1.0   None  None       22961       5099   \n",
       "2   3   1.584466       03      1.0   None  None       23692       6461   \n",
       "3   4  52.090076       04      1.0   None  None       23653      19435   \n",
       "4   5   5.388244       05      1.0   None  None       23485       6842   \n",
       "\n",
       "   ADJ_BLACK  ADJ_ASIAN  ...  TOTAL_REGI      DEM_      REP_    OTHER_  \\\n",
       "0      14503        313  ...       19374  0.754878  0.085114  0.160008   \n",
       "1      13969        351  ...       17218  0.719422  0.087118  0.193460   \n",
       "2      11869        200  ...       16771  0.721543  0.093614  0.184843   \n",
       "3       1249        300  ...       19540  0.356704  0.399846  0.243449   \n",
       "4      11952       1312  ...       16989  0.677262  0.122609  0.200129   \n",
       "\n",
       "   F_ADJ_18_W  F_ADJ_18_B  F_ADJ_18_A  DISTRICT_N  DISTRICT_L  \\\n",
       "0    0.317962    0.598196    0.014487           1    01|-3.6%   \n",
       "1    0.258801    0.586316    0.018915           2   02|-4.87%   \n",
       "2    0.308913    0.484878    0.010081           3   03|-1.84%   \n",
       "3    0.853769    0.047228    0.011489           4   04|-2.01%   \n",
       "4    0.321194    0.493084    0.058338           5    05|-2.7%   \n",
       "\n",
       "                                            geometry  \n",
       "0  POLYGON ((-75.55350 39.76181, -75.55343 39.761...  \n",
       "1  POLYGON ((-75.55103 39.73524, -75.55105 39.735...  \n",
       "2  POLYGON ((-75.55230 39.74464, -75.55222 39.744...  \n",
       "3  POLYGON ((-75.12478 38.68044, -75.12423 38.679...  \n",
       "4  POLYGON ((-75.60451 39.66538, -75.60653 39.663...  \n",
       "\n",
       "[5 rows x 33 columns]"
      ]
     },
     "execution_count": 54,
     "metadata": {},
     "output_type": "execute_result"
    }
   ],
   "source": [
    "hdist.head()"
   ]
  },
  {
   "cell_type": "code",
   "execution_count": 55,
   "id": "a9fe98af-f37e-4200-835e-f96695f68e41",
   "metadata": {
    "tags": []
   },
   "outputs": [
    {
     "name": "stderr",
     "output_type": "stream",
     "text": [
      "100%|██████████████████████████████████████████| 21/21 [00:00<00:00, 599.85it/s]\n",
      "100%|█████████████████████████████████████████| 21/21 [00:00<00:00, 1559.69it/s]\n",
      "100%|██████████████████████████████████████████| 21/21 [00:00<00:00, 170.06it/s]\n"
     ]
    }
   ],
   "source": [
    "election_df = add_district(send, \"SEND\", election_df, \"ID\")"
   ]
  },
  {
   "cell_type": "code",
   "execution_count": 56,
   "id": "2b8a816c-8f7d-4d11-a4d8-88039eb0a924",
   "metadata": {},
   "outputs": [
    {
     "name": "stderr",
     "output_type": "stream",
     "text": [
      "100%|██████████████████████████████████████████| 41/41 [00:00<00:00, 676.66it/s]\n",
      "100%|█████████████████████████████████████████| 41/41 [00:00<00:00, 2241.74it/s]\n",
      "100%|██████████████████████████████████████████| 41/41 [00:00<00:00, 223.46it/s]\n"
     ]
    }
   ],
   "source": [
    "election_df = add_district(hdist, \"HDIST\", election_df, \"ID\")"
   ]
  },
  {
   "cell_type": "markdown",
   "id": "0bba365b-7d46-45ea-9b8b-400fc162a82f",
   "metadata": {},
   "source": [
    "### Put the base precinct year after the precinct information column"
   ]
  },
  {
   "cell_type": "code",
   "execution_count": 58,
   "id": "7086205b-49f4-44a7-be19-9eeac924e07b",
   "metadata": {},
   "outputs": [],
   "source": [
    "base_columns = {}\n",
    "if 'COUNTY_FIP' + year not in election_df.columns:\n",
    "    base_columns = {\n",
    "        'COUNTY_FIP':'COUNTY_FIP'+year,\n",
    "        'COUNTY_NAM':'COUNTY_NAM'+year,\n",
    "        'PRECINCT':'PRECINCT'+year,\n",
    "    }\n",
    "election_df.rename(columns=base_columns, inplace = True)"
   ]
  },
  {
   "cell_type": "code",
   "execution_count": 59,
   "id": "3ea62760-cc32-4fcc-8475-c3ba956cb901",
   "metadata": {},
   "outputs": [],
   "source": [
    "# reorder the columns\n",
    "fixed_columns = [\n",
    "    #'COUNTY_FIP'+year,\n",
    "    #'COUNTY_NAM'+year,\n",
    "    'PRECINCT'+year,\n",
    "    #'CD',\n",
    "    'SEND',\n",
    "    'TOTPOP',\n",
    "    'NH_2MORE',\n",
    "    'NH_AMIN',\n",
    "    'NH_ASIAN',\n",
    "    'NH_BLACK',\n",
    "    'NH_NHPI',\n",
    "    'NH_OTHER',\n",
    "    'NH_WHITE',\n",
    "    'HISP',\n",
    "    'H_AMIN',\n",
    "    'H_ASIAN',\n",
    "    'H_BLACK',\n",
    "    'H_NHPI',\n",
    "    'H_OTHER',\n",
    "    'H_WHITE',\n",
    "    'H_2MORE',\n",
    "    'VAP',\n",
    "    'HVAP',\n",
    "    'WVAP',\n",
    "    'BVAP',\n",
    "    'AMINVAP',\n",
    "    'ASIANVAP',\n",
    "    'NHPIVAP',\n",
    "    'OTHERVAP',\n",
    "    '2MOREVAP']\n",
    "\n",
    "election_columns = [col for col in election_df.columns if col not in fixed_columns]\n",
    "final_col = fixed_columns + election_columns\n",
    "election_df = election_df[final_col]"
   ]
  },
  {
   "cell_type": "code",
   "execution_count": 60,
   "id": "1b198042-dbd4-408e-bfd4-4494f2b49245",
   "metadata": {
    "tags": []
   },
   "outputs": [],
   "source": [
    "# store the result in directory \"il\"\n",
    "os.makedirs(\"./{}\".format(state_ab))\n",
    "election_df.to_file(\"./{}/{}.shp\".format(state_ab, state_ab))\n",
    "election_df.to_file('./{}/{}.geojson'.format(state_ab, state_ab), driver='GeoJSON')\n",
    "\n",
    "# Only do once to build json and read from file when generating ensembles\n",
    "graph = Graph.from_file(\"./{}/{}.shp\".format(state_ab, state_ab), ignore_errors=True)\n",
    "graph.to_json(\"./{}/{}.json\".format(state_ab, state_ab))"
   ]
  },
  {
   "cell_type": "code",
   "execution_count": null,
   "id": "a8ba4789-8282-428a-90d4-e59ee50f4064",
   "metadata": {},
   "outputs": [],
   "source": []
  }
 ],
 "metadata": {
  "kernelspec": {
   "display_name": "gerry",
   "language": "python",
   "name": "gerry"
  },
  "language_info": {
   "codemirror_mode": {
    "name": "ipython",
    "version": 3
   },
   "file_extension": ".py",
   "mimetype": "text/x-python",
   "name": "python",
   "nbconvert_exporter": "python",
   "pygments_lexer": "ipython3",
   "version": "3.11.4"
  }
 },
 "nbformat": 4,
 "nbformat_minor": 5
}
